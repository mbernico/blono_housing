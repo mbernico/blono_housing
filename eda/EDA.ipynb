{
 "cells": [
  {
   "cell_type": "markdown",
   "metadata": {},
   "source": [
    "# \n"
   ]
  },
  {
   "cell_type": "markdown",
   "metadata": {},
   "source": [
    "# Bloomington-Normal Housing Prices EDA\n",
    "\n",
    "## Goal:  Learn Exploritory Data Analysis\n",
    "\n",
    "In this example we're going to demonstrate the Data Science process, including data exploration using a dataset that consists of houses for sale in Bloomington Normal.\n",
    "\n",
    "\n"
   ]
  },
  {
   "cell_type": "code",
   "execution_count": 48,
   "metadata": {
    "collapsed": true
   },
   "outputs": [],
   "source": [
    "import pandas as pd\n",
    "import seaborn as sns\n",
    "import numpy as np\n",
    "from matplotlib import pyplot as plt\n",
    "\n",
    "%matplotlib inline"
   ]
  },
  {
   "cell_type": "code",
   "execution_count": 49,
   "metadata": {
    "collapsed": true
   },
   "outputs": [],
   "source": [
    "df = pd.read_csv(\"../data/house_data.csv\")\n"
   ]
  },
  {
   "cell_type": "code",
   "execution_count": 50,
   "metadata": {
    "collapsed": false
   },
   "outputs": [
    {
     "data": {
      "text/html": [
       "<div>\n",
       "<table border=\"1\" class=\"dataframe\">\n",
       "  <thead>\n",
       "    <tr style=\"text-align: right;\">\n",
       "      <th></th>\n",
       "      <th>address</th>\n",
       "      <th>agent</th>\n",
       "      <th>baths_full</th>\n",
       "      <th>baths_half</th>\n",
       "      <th>bedrooms</th>\n",
       "      <th>broker</th>\n",
       "      <th>city</th>\n",
       "      <th>garage</th>\n",
       "      <th>lot_size</th>\n",
       "      <th>photos</th>\n",
       "      <th>price</th>\n",
       "      <th>property_type</th>\n",
       "      <th>sqft</th>\n",
       "      <th>zip_code</th>\n",
       "    </tr>\n",
       "  </thead>\n",
       "  <tbody>\n",
       "    <tr>\n",
       "      <th>0</th>\n",
       "      <td>2718 Westbrook Dr</td>\n",
       "      <td>2740227</td>\n",
       "      <td>2</td>\n",
       "      <td>2</td>\n",
       "      <td>2</td>\n",
       "      <td>712753</td>\n",
       "      <td>Bloomington</td>\n",
       "      <td>2</td>\n",
       "      <td>-1.0</td>\n",
       "      <td>14</td>\n",
       "      <td>145000</td>\n",
       "      <td>Condo/Townhome/Row Home/Co-Op</td>\n",
       "      <td>1396.0</td>\n",
       "      <td>61705</td>\n",
       "    </tr>\n",
       "    <tr>\n",
       "      <th>1</th>\n",
       "      <td>505 Cheshire Dr</td>\n",
       "      <td>2047335</td>\n",
       "      <td>2</td>\n",
       "      <td>1</td>\n",
       "      <td>4</td>\n",
       "      <td>712753</td>\n",
       "      <td>Bloomington</td>\n",
       "      <td>2</td>\n",
       "      <td>-1.0</td>\n",
       "      <td>30</td>\n",
       "      <td>219900</td>\n",
       "      <td>Single Family Home</td>\n",
       "      <td>2939.0</td>\n",
       "      <td>61704</td>\n",
       "    </tr>\n",
       "    <tr>\n",
       "      <th>2</th>\n",
       "      <td>703 E Washington St</td>\n",
       "      <td>1613798</td>\n",
       "      <td>2</td>\n",
       "      <td>1</td>\n",
       "      <td>6</td>\n",
       "      <td>1571726</td>\n",
       "      <td>Bloomington</td>\n",
       "      <td>-1</td>\n",
       "      <td>-1.0</td>\n",
       "      <td>30</td>\n",
       "      <td>175000</td>\n",
       "      <td>Single Family Home</td>\n",
       "      <td>3889.0</td>\n",
       "      <td>61701</td>\n",
       "    </tr>\n",
       "    <tr>\n",
       "      <th>3</th>\n",
       "      <td>1510 Paddington Dr</td>\n",
       "      <td>1193279</td>\n",
       "      <td>2</td>\n",
       "      <td>1</td>\n",
       "      <td>3</td>\n",
       "      <td>1571726</td>\n",
       "      <td>Bloomington</td>\n",
       "      <td>2</td>\n",
       "      <td>-1.0</td>\n",
       "      <td>30</td>\n",
       "      <td>204900</td>\n",
       "      <td>Single Family Home</td>\n",
       "      <td>3228.0</td>\n",
       "      <td>61704</td>\n",
       "    </tr>\n",
       "    <tr>\n",
       "      <th>4</th>\n",
       "      <td>1003 Maple St</td>\n",
       "      <td>7995</td>\n",
       "      <td>2</td>\n",
       "      <td>0</td>\n",
       "      <td>3</td>\n",
       "      <td>3054550</td>\n",
       "      <td>Bloomington</td>\n",
       "      <td>-1</td>\n",
       "      <td>-1.0</td>\n",
       "      <td>30</td>\n",
       "      <td>125000</td>\n",
       "      <td>Single Family Home</td>\n",
       "      <td>1888.0</td>\n",
       "      <td>61701</td>\n",
       "    </tr>\n",
       "  </tbody>\n",
       "</table>\n",
       "</div>"
      ],
      "text/plain": [
       "               address    agent  baths_full  baths_half  bedrooms   broker  \\\n",
       "0    2718 Westbrook Dr  2740227           2           2         2   712753   \n",
       "1      505 Cheshire Dr  2047335           2           1         4   712753   \n",
       "2  703 E Washington St  1613798           2           1         6  1571726   \n",
       "3   1510 Paddington Dr  1193279           2           1         3  1571726   \n",
       "4        1003 Maple St     7995           2           0         3  3054550   \n",
       "\n",
       "          city  garage  lot_size  photos   price  \\\n",
       "0  Bloomington       2      -1.0      14  145000   \n",
       "1  Bloomington       2      -1.0      30  219900   \n",
       "2  Bloomington      -1      -1.0      30  175000   \n",
       "3  Bloomington       2      -1.0      30  204900   \n",
       "4  Bloomington      -1      -1.0      30  125000   \n",
       "\n",
       "                   property_type    sqft  zip_code  \n",
       "0  Condo/Townhome/Row Home/Co-Op  1396.0     61705  \n",
       "1             Single Family Home  2939.0     61704  \n",
       "2             Single Family Home  3889.0     61701  \n",
       "3             Single Family Home  3228.0     61704  \n",
       "4             Single Family Home  1888.0     61701  "
      ]
     },
     "execution_count": 50,
     "metadata": {},
     "output_type": "execute_result"
    }
   ],
   "source": [
    "df.head()"
   ]
  },
  {
   "cell_type": "code",
   "execution_count": 69,
   "metadata": {
    "collapsed": false
   },
   "outputs": [
    {
     "data": {
      "text/plain": [
       "<matplotlib.axes._subplots.AxesSubplot at 0x11a85f518>"
      ]
     },
     "execution_count": 69,
     "metadata": {},
     "output_type": "execute_result"
    },
    {
     "data": {
      "image/png": "[encoded data removed]",
      "text/plain": [
       "<matplotlib.figure.Figure at 0x119cd65f8>"
      ]
     },
     "metadata": {},
     "output_type": "display_data"
    }
   ],
   "source": [
    "df.property_type.value_counts().plot(kind='bar')"
   ]
  },
  {
   "cell_type": "code",
   "execution_count": 51,
   "metadata": {
    "collapsed": false
   },
   "outputs": [
    {
     "data": {
      "text/plain": [
       "<matplotlib.axes._subplots.AxesSubplot at 0x1188eee10>"
      ]
     },
     "execution_count": 51,
     "metadata": {},
     "output_type": "execute_result"
    },
    {
     "data": {
      "image/png": "[encoded data removed]",
      "text/plain": [
       "<matplotlib.figure.Figure at 0x1188b0be0>"
      ]
     },
     "metadata": {},
     "output_type": "display_data"
    }
   ],
   "source": [
    "df.baths_full.hist()"
   ]
  },
  {
   "cell_type": "code",
   "execution_count": 52,
   "metadata": {
    "collapsed": false
   },
   "outputs": [
    {
     "data": {
      "text/plain": [
       "<matplotlib.axes._subplots.AxesSubplot at 0x118bab780>"
      ]
     },
     "execution_count": 52,
     "metadata": {},
     "output_type": "execute_result"
    },
    {
     "data": {
      "image/png": "[encoded data removed]",
      "text/plain": [
       "<matplotlib.figure.Figure at 0x118bb6b00>"
      ]
     },
     "metadata": {},
     "output_type": "display_data"
    }
   ],
   "source": [
    "df.baths_half.hist()"
   ]
  },
  {
   "cell_type": "code",
   "execution_count": 53,
   "metadata": {
    "collapsed": false
   },
   "outputs": [
    {
     "data": {
      "text/plain": [
       "<matplotlib.axes._subplots.AxesSubplot at 0x118f0d7f0>"
      ]
     },
     "execution_count": 53,
     "metadata": {},
     "output_type": "execute_result"
    },
    {
     "data": {
      "image/png": "[encoded data removed]",
      "text/plain": [
       "<matplotlib.figure.Figure at 0x118f1e780>"
      ]
     },
     "metadata": {},
     "output_type": "display_data"
    }
   ],
   "source": [
    "df.bedrooms.hist()"
   ]
  },
  {
   "cell_type": "code",
   "execution_count": 54,
   "metadata": {
    "collapsed": false
   },
   "outputs": [
    {
     "data": {
      "text/plain": [
       "<matplotlib.axes._subplots.AxesSubplot at 0x118ff4da0>"
      ]
     },
     "execution_count": 54,
     "metadata": {},
     "output_type": "execute_result"
    },
    {
     "data": {
      "image/png": "[encoded data removed]",
      "text/plain": [
       "<matplotlib.figure.Figure at 0x11901a630>"
      ]
     },
     "metadata": {},
     "output_type": "display_data"
    }
   ],
   "source": [
    "df.garage.hist()"
   ]
  },
  {
   "cell_type": "code",
   "execution_count": 55,
   "metadata": {
    "collapsed": false
   },
   "outputs": [
    {
     "data": {
      "text/plain": [
       "<matplotlib.axes._subplots.AxesSubplot at 0x11902a748>"
      ]
     },
     "execution_count": 55,
     "metadata": {},
     "output_type": "execute_result"
    },
    {
     "data": {
      "image/png": "[encoded data removed]",
      "text/plain": [
       "<matplotlib.figure.Figure at 0x118968e10>"
      ]
     },
     "metadata": {},
     "output_type": "display_data"
    }
   ],
   "source": [
    "df.city.value_counts().plot(kind='bar')"
   ]
  },
  {
   "cell_type": "code",
   "execution_count": 56,
   "metadata": {
    "collapsed": false
   },
   "outputs": [
    {
     "data": {
      "text/plain": [
       "<matplotlib.axes._subplots.AxesSubplot at 0x119109f98>"
      ]
     },
     "execution_count": 56,
     "metadata": {},
     "output_type": "execute_result"
    },
    {
     "data": {
      "image/png": "[encoded data removed]",
      "text/plain": [
       "<matplotlib.figure.Figure at 0x1191a2898>"
      ]
     },
     "metadata": {},
     "output_type": "display_data"
    }
   ],
   "source": [
    "df.lot_size.hist()"
   ]
  },
  {
   "cell_type": "code",
   "execution_count": 57,
   "metadata": {
    "collapsed": false
   },
   "outputs": [
    {
     "data": {
      "text/plain": [
       "<matplotlib.axes._subplots.AxesSubplot at 0x119304780>"
      ]
     },
     "execution_count": 57,
     "metadata": {},
     "output_type": "execute_result"
    },
    {
     "data": {
      "image/png": "[encoded data removed]",
      "text/plain": [
       "<matplotlib.figure.Figure at 0x119365198>"
      ]
     },
     "metadata": {},
     "output_type": "display_data"
    }
   ],
   "source": [
    "df.sqft.hist(bins=100)"
   ]
  },
  {
   "cell_type": "code",
   "execution_count": 58,
   "metadata": {
    "collapsed": false
   },
   "outputs": [
    {
     "data": {
      "text/plain": [
       "<matplotlib.axes._subplots.AxesSubplot at 0x11955c748>"
      ]
     },
     "execution_count": 58,
     "metadata": {},
     "output_type": "execute_result"
    },
    {
     "data": {
      "image/png": "[encoded data removed]",
      "text/plain": [
       "<matplotlib.figure.Figure at 0x118f8fbe0>"
      ]
     },
     "metadata": {},
     "output_type": "display_data"
    }
   ],
   "source": [
    "df.price.hist(bins=100)"
   ]
  },
  {
   "cell_type": "code",
   "execution_count": 59,
   "metadata": {
    "collapsed": false
   },
   "outputs": [
    {
     "data": {
      "text/html": [
       "<div>\n",
       "<table border=\"1\" class=\"dataframe\">\n",
       "  <thead>\n",
       "    <tr style=\"text-align: right;\">\n",
       "      <th></th>\n",
       "      <th>agent</th>\n",
       "      <th>baths_full</th>\n",
       "      <th>baths_half</th>\n",
       "      <th>bedrooms</th>\n",
       "      <th>broker</th>\n",
       "      <th>garage</th>\n",
       "      <th>lot_size</th>\n",
       "      <th>photos</th>\n",
       "      <th>price</th>\n",
       "      <th>sqft</th>\n",
       "      <th>zip_code</th>\n",
       "    </tr>\n",
       "  </thead>\n",
       "  <tbody>\n",
       "    <tr>\n",
       "      <th>agent</th>\n",
       "      <td>1.000000</td>\n",
       "      <td>0.107141</td>\n",
       "      <td>0.050630</td>\n",
       "      <td>0.133448</td>\n",
       "      <td>-0.203380</td>\n",
       "      <td>0.112792</td>\n",
       "      <td>-0.051044</td>\n",
       "      <td>0.083286</td>\n",
       "      <td>-0.037760</td>\n",
       "      <td>0.048486</td>\n",
       "      <td>0.029660</td>\n",
       "    </tr>\n",
       "    <tr>\n",
       "      <th>baths_full</th>\n",
       "      <td>0.107141</td>\n",
       "      <td>1.000000</td>\n",
       "      <td>0.444632</td>\n",
       "      <td>0.706006</td>\n",
       "      <td>0.113626</td>\n",
       "      <td>0.807552</td>\n",
       "      <td>-0.101356</td>\n",
       "      <td>0.684168</td>\n",
       "      <td>0.245961</td>\n",
       "      <td>0.552322</td>\n",
       "      <td>0.037331</td>\n",
       "    </tr>\n",
       "    <tr>\n",
       "      <th>baths_half</th>\n",
       "      <td>0.050630</td>\n",
       "      <td>0.444632</td>\n",
       "      <td>1.000000</td>\n",
       "      <td>0.489014</td>\n",
       "      <td>0.069477</td>\n",
       "      <td>0.547623</td>\n",
       "      <td>-0.072162</td>\n",
       "      <td>0.444794</td>\n",
       "      <td>0.189493</td>\n",
       "      <td>0.376413</td>\n",
       "      <td>0.021860</td>\n",
       "    </tr>\n",
       "    <tr>\n",
       "      <th>bedrooms</th>\n",
       "      <td>0.133448</td>\n",
       "      <td>0.706006</td>\n",
       "      <td>0.489014</td>\n",
       "      <td>1.000000</td>\n",
       "      <td>0.118669</td>\n",
       "      <td>0.652117</td>\n",
       "      <td>-0.123070</td>\n",
       "      <td>0.611959</td>\n",
       "      <td>0.221124</td>\n",
       "      <td>0.635004</td>\n",
       "      <td>0.042524</td>\n",
       "    </tr>\n",
       "    <tr>\n",
       "      <th>broker</th>\n",
       "      <td>-0.203380</td>\n",
       "      <td>0.113626</td>\n",
       "      <td>0.069477</td>\n",
       "      <td>0.118669</td>\n",
       "      <td>1.000000</td>\n",
       "      <td>0.131208</td>\n",
       "      <td>-0.016561</td>\n",
       "      <td>0.251413</td>\n",
       "      <td>-0.016928</td>\n",
       "      <td>0.071585</td>\n",
       "      <td>0.006418</td>\n",
       "    </tr>\n",
       "    <tr>\n",
       "      <th>garage</th>\n",
       "      <td>0.112792</td>\n",
       "      <td>0.807552</td>\n",
       "      <td>0.547623</td>\n",
       "      <td>0.652117</td>\n",
       "      <td>0.131208</td>\n",
       "      <td>1.000000</td>\n",
       "      <td>-0.103160</td>\n",
       "      <td>0.686980</td>\n",
       "      <td>0.217991</td>\n",
       "      <td>0.515406</td>\n",
       "      <td>0.037118</td>\n",
       "    </tr>\n",
       "    <tr>\n",
       "      <th>lot_size</th>\n",
       "      <td>-0.051044</td>\n",
       "      <td>-0.101356</td>\n",
       "      <td>-0.072162</td>\n",
       "      <td>-0.123070</td>\n",
       "      <td>-0.016561</td>\n",
       "      <td>-0.103160</td>\n",
       "      <td>1.000000</td>\n",
       "      <td>-0.120661</td>\n",
       "      <td>0.486197</td>\n",
       "      <td>-0.071867</td>\n",
       "      <td>0.003242</td>\n",
       "    </tr>\n",
       "    <tr>\n",
       "      <th>photos</th>\n",
       "      <td>0.083286</td>\n",
       "      <td>0.684168</td>\n",
       "      <td>0.444794</td>\n",
       "      <td>0.611959</td>\n",
       "      <td>0.251413</td>\n",
       "      <td>0.686980</td>\n",
       "      <td>-0.120661</td>\n",
       "      <td>1.000000</td>\n",
       "      <td>0.118725</td>\n",
       "      <td>0.464794</td>\n",
       "      <td>0.039293</td>\n",
       "    </tr>\n",
       "    <tr>\n",
       "      <th>price</th>\n",
       "      <td>-0.037760</td>\n",
       "      <td>0.245961</td>\n",
       "      <td>0.189493</td>\n",
       "      <td>0.221124</td>\n",
       "      <td>-0.016928</td>\n",
       "      <td>0.217991</td>\n",
       "      <td>0.486197</td>\n",
       "      <td>0.118725</td>\n",
       "      <td>1.000000</td>\n",
       "      <td>0.477110</td>\n",
       "      <td>0.009714</td>\n",
       "    </tr>\n",
       "    <tr>\n",
       "      <th>sqft</th>\n",
       "      <td>0.048486</td>\n",
       "      <td>0.552322</td>\n",
       "      <td>0.376413</td>\n",
       "      <td>0.635004</td>\n",
       "      <td>0.071585</td>\n",
       "      <td>0.515406</td>\n",
       "      <td>-0.071867</td>\n",
       "      <td>0.464794</td>\n",
       "      <td>0.477110</td>\n",
       "      <td>1.000000</td>\n",
       "      <td>0.028232</td>\n",
       "    </tr>\n",
       "    <tr>\n",
       "      <th>zip_code</th>\n",
       "      <td>0.029660</td>\n",
       "      <td>0.037331</td>\n",
       "      <td>0.021860</td>\n",
       "      <td>0.042524</td>\n",
       "      <td>0.006418</td>\n",
       "      <td>0.037118</td>\n",
       "      <td>0.003242</td>\n",
       "      <td>0.039293</td>\n",
       "      <td>0.009714</td>\n",
       "      <td>0.028232</td>\n",
       "      <td>1.000000</td>\n",
       "    </tr>\n",
       "  </tbody>\n",
       "</table>\n",
       "</div>"
      ],
      "text/plain": [
       "               agent  baths_full  baths_half  bedrooms    broker    garage  \\\n",
       "agent       1.000000    0.107141    0.050630  0.133448 -0.203380  0.112792   \n",
       "baths_full  0.107141    1.000000    0.444632  0.706006  0.113626  0.807552   \n",
       "baths_half  0.050630    0.444632    1.000000  0.489014  0.069477  0.547623   \n",
       "bedrooms    0.133448    0.706006    0.489014  1.000000  0.118669  0.652117   \n",
       "broker     -0.203380    0.113626    0.069477  0.118669  1.000000  0.131208   \n",
       "garage      0.112792    0.807552    0.547623  0.652117  0.131208  1.000000   \n",
       "lot_size   -0.051044   -0.101356   -0.072162 -0.123070 -0.016561 -0.103160   \n",
       "photos      0.083286    0.684168    0.444794  0.611959  0.251413  0.686980   \n",
       "price      -0.037760    0.245961    0.189493  0.221124 -0.016928  0.217991   \n",
       "sqft        0.048486    0.552322    0.376413  0.635004  0.071585  0.515406   \n",
       "zip_code    0.029660    0.037331    0.021860  0.042524  0.006418  0.037118   \n",
       "\n",
       "            lot_size    photos     price      sqft  zip_code  \n",
       "agent      -0.051044  0.083286 -0.037760  0.048486  0.029660  \n",
       "baths_full -0.101356  0.684168  0.245961  0.552322  0.037331  \n",
       "baths_half -0.072162  0.444794  0.189493  0.376413  0.021860  \n",
       "bedrooms   -0.123070  0.611959  0.221124  0.635004  0.042524  \n",
       "broker     -0.016561  0.251413 -0.016928  0.071585  0.006418  \n",
       "garage     -0.103160  0.686980  0.217991  0.515406  0.037118  \n",
       "lot_size    1.000000 -0.120661  0.486197 -0.071867  0.003242  \n",
       "photos     -0.120661  1.000000  0.118725  0.464794  0.039293  \n",
       "price       0.486197  0.118725  1.000000  0.477110  0.009714  \n",
       "sqft       -0.071867  0.464794  0.477110  1.000000  0.028232  \n",
       "zip_code    0.003242  0.039293  0.009714  0.028232  1.000000  "
      ]
     },
     "execution_count": 59,
     "metadata": {},
     "output_type": "execute_result"
    }
   ],
   "source": [
    "df.corr()"
   ]
  },
  {
   "cell_type": "code",
   "execution_count": 67,
   "metadata": {
    "collapsed": false
   },
   "outputs": [
    {
     "data": {
      "text/plain": [
       "<matplotlib.axes._subplots.AxesSubplot at 0x11a18a8d0>"
      ]
     },
     "execution_count": 67,
     "metadata": {},
     "output_type": "execute_result"
    },
    {
     "data": {
      "image/png": "[encoded data removed]",
      "text/plain": [
       "<matplotlib.figure.Figure at 0x11a19dcc0>"
      ]
     },
     "metadata": {},
     "output_type": "display_data"
    }
   ],
   "source": [
    "# Compute the correlation matrix\n",
    "corr = df.corr()\n",
    "\n",
    "# Generate a mask for the upper triangle\n",
    "mask = np.zeros_like(corr, dtype=np.bool)\n",
    "mask[np.triu_indices_from(mask)] = True\n",
    "\n",
    "# Set up the matplotlib figure\n",
    "f, ax = plt.subplots(figsize=(11, 9))\n",
    "\n",
    "# Generate a custom diverging colormap\n",
    "cmap = sns.diverging_palette(220, 10, as_cmap=True)\n",
    "\n",
    "# Draw the heatmap with the mask and correct aspect ratio\n",
    "sns.heatmap(corr, mask=mask, cmap=cmap, vmax=.3,\n",
    "            square=True, \n",
    "            linewidths=.5, cbar_kws={\"shrink\": .5}, ax=ax)"
   ]
  },
  {
   "cell_type": "code",
   "execution_count": null,
   "metadata": {
    "collapsed": true
   },
   "outputs": [],
   "source": []
  }
 ],
 "metadata": {
  "kernelspec": {
   "display_name": "Python [default]",
   "language": "python",
   "name": "python3"
  },
  "language_info": {
   "codemirror_mode": {
    "name": "ipython",
    "version": 3
   },
   "file_extension": ".py",
   "mimetype": "text/x-python",
   "name": "python",
   "nbconvert_exporter": "python",
   "pygments_lexer": "ipython3",
   "version": "3.5.2"
  }
 },
 "nbformat": 4,
 "nbformat_minor": 2
}
