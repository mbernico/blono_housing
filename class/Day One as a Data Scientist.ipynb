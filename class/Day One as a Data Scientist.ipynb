{
 "cells": [
  {
   "cell_type": "markdown",
   "metadata": {
    "slideshow": {
     "slide_type": "slide"
    }
   },
   "source": [
    "## Welcome to our first day on the job!\n",
    "\n",
    "Welcome to your first day on the job as a Data Scientist for \"Abnormal Real Estate Inc.\" \n",
    "\n",
    "Abnormal Real Estate Inc. buys and sells houses in the Bloomington/Normal area. They determine the sale price of the houses they list by using a pyschic.  \n",
    "\n",
    "Jerry, the CEO of Abnormal Real Estate heard that 'Data Scientists' were even better than pyschics, and everyone should have one.  So, they've hired us to help determine the sales price the houses they list.  \n",
    "\n",
    "Because we're Scientists (it's literally in the title) we should start with a hypothesis.\n",
    "\n",
    "### Hypothesis:  We can use public data about houses being sold in Bloomington/Normal to estimate an ideal sale price for a particular house.\n",
    "\n",
    "\n"
   ]
  },
  {
   "cell_type": "markdown",
   "metadata": {
    "slideshow": {
     "slide_type": "slide"
    }
   },
   "source": [
    "## Plan\n",
    "\n",
    "### Build a Model\n",
    "\n",
    "1.  Scrape public data from realtor.com for houses being sold in Bloomington/Normal\n",
    "2.  Do \"Exploritory Data Analysis\" on our data to determine which variables might be useful in estimating or predicting house sales price.\n",
    "3.  Build a mathematical model that can predict house sales price, using the variables we identify\n",
    "\n",
    "\n",
    "### Run An Experiment\n",
    "\n",
    "We need to compare our selling price the the psychics.  The most important part of any experiment is a metric.  What are we measuring?\n",
    "\n",
    "* Metric: Time to sell * \n",
    "1.  Get a list of houses ARE Inc. plans to sell.\n",
    "2.  Flip a coin.  Heads = Model, Tails = Psychic\n",
    "3.  We can compare the time to market between our model and the pychic statistically, to determine which is better."
   ]
  },
  {
   "cell_type": "code",
   "execution_count": null,
   "metadata": {
    "collapsed": true
   },
   "outputs": [],
   "source": []
  }
 ],
 "metadata": {
  "celltoolbar": "Slideshow",
  "kernelspec": {
   "display_name": "Python [default]",
   "language": "python",
   "name": "python3"
  },
  "language_info": {
   "codemirror_mode": {
    "name": "ipython",
    "version": 3
   },
   "file_extension": ".py",
   "mimetype": "text/x-python",
   "name": "python",
   "nbconvert_exporter": "python",
   "pygments_lexer": "ipython3",
   "version": "3.5.2"
  }
 },
 "nbformat": 4,
 "nbformat_minor": 2
}
