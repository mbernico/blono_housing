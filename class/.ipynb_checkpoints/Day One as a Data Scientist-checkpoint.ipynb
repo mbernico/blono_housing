{
 "cells": [
  {
   "cell_type": "markdown",
   "metadata": {
    "slideshow": {
     "slide_type": "slide"
    }
   },
   "source": [
    "# Welcome to our first day on the job!\n",
    "\n",
    "Welcome to your first day on the job as a Data Scientist for \"Abnormal Real Estate Inc.\" \n",
    "\n",
    "Abnormal Real Estate Inc. buys and sells houses in the Bloomington/Normal area. They've hired us to help determine the sales price the houses they list.  \n",
    "\n",
    "Because we're Scientists (it's literally in the title) we should start with a hypothesis.\n",
    "\n",
    "### Hypothesis:  We can use public data about houses being sold in Bloomington/Normal to estimate an ideal sale price for a particular house.\n",
    "\n",
    "Any hypothesis must be testable.  How would we test this hypothesis?"
   ]
  },
  {
   "cell_type": "code",
   "execution_count": null,
   "metadata": {
    "collapsed": true,
    "slideshow": {
     "slide_type": "slide"
    }
   },
   "outputs": [],
   "source": []
  }
 ],
 "metadata": {
  "celltoolbar": "Slideshow",
  "kernelspec": {
   "display_name": "Python [default]",
   "language": "python",
   "name": "python3"
  },
  "language_info": {
   "codemirror_mode": {
    "name": "ipython",
    "version": 3
   },
   "file_extension": ".py",
   "mimetype": "text/x-python",
   "name": "python",
   "nbconvert_exporter": "python",
   "pygments_lexer": "ipython3",
   "version": "3.5.2"
  }
 },
 "nbformat": 4,
 "nbformat_minor": 2
}
